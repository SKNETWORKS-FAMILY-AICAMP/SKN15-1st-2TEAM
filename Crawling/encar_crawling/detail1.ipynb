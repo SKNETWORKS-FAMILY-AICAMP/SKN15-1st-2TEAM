{
 "cells": [
  {
   "metadata": {
    "ExecuteTime": {
     "end_time": "2025-06-09T10:46:57.444972Z",
     "start_time": "2025-06-09T10:46:56.959554Z"
    }
   },
   "cell_type": "code",
   "source": [
    "from bs4 import BeautifulSoup as bs\n",
    "from pyparsing import line_end\n",
    "from selenium import webdriver\n",
    "from selenium.webdriver.chrome.service import Service as ChromeService\n",
    "from webdriver_manager.chrome import ChromeDriverManager\n",
    "\n",
    "from selenium.common.exceptions import NoSuchElementException\n",
    "\n",
    "\n",
    "from selenium.webdriver.common.by import By\n",
    "from selenium.webdriver.support.ui import WebDriverWait\n",
    "from selenium.webdriver.support import expected_conditions as EC\n",
    "\n",
    "import requests\n",
    "import time\n",
    "from bs4 import BeautifulSoup"
   ],
   "id": "d63a3d4814ae19b8",
   "outputs": [],
   "execution_count": 9
  },
  {
   "metadata": {},
   "cell_type": "code",
   "outputs": [],
   "execution_count": 5,
   "source": [
    "def get_sql(sql):\n",
    "    cur.execute(sql)\n",
    "    return cur.fetchall()"
   ],
   "id": "f9a076979fe16029"
  },
  {
   "metadata": {
    "ExecuteTime": {
     "end_time": "2025-06-09T10:44:29.325877Z",
     "start_time": "2025-06-09T10:44:18.994322Z"
    }
   },
   "cell_type": "code",
   "source": [
    "import pymysql\n",
    "\n",
    "conn = pymysql.connect(host='222.112.208.67', user='team_2', passwd='123', database='sk15_2team', port=3306)\n",
    "cur = conn.cursor()"
   ],
   "id": "initial_id",
   "outputs": [],
   "execution_count": 3
  },
  {
   "metadata": {
    "ExecuteTime": {
     "end_time": "2025-06-09T10:46:38.492343Z",
     "start_time": "2025-06-09T10:46:38.481782Z"
    }
   },
   "cell_type": "code",
   "source": "url = \"https://fem.encar.com/cars/detail/{}?advClickPosition=mweb_mopre_g1_t936&listAdvType=mpremium&type=detail&view_type=checked\"",
   "id": "19007d6d5f7f5fd5",
   "outputs": [],
   "execution_count": 8
  },
  {
   "metadata": {
    "ExecuteTime": {
     "end_time": "2025-06-09T10:47:21.029405Z",
     "start_time": "2025-06-09T10:47:19.062536Z"
    }
   },
   "cell_type": "code",
   "source": "driver = webdriver.Chrome(service=ChromeService(ChromeDriverManager().install()))",
   "id": "465fe4b1e6387700",
   "outputs": [],
   "execution_count": 10
  },
  {
   "metadata": {
    "ExecuteTime": {
     "end_time": "2025-06-09T10:47:33.829765Z",
     "start_time": "2025-06-09T10:47:33.824473Z"
    }
   },
   "cell_type": "code",
   "source": "n = 31913510",
   "id": "6981d76be7a3480c",
   "outputs": [],
   "execution_count": 11
  },
  {
   "metadata": {
    "ExecuteTime": {
     "end_time": "2025-06-09T10:47:35.821283Z",
     "start_time": "2025-06-09T10:47:34.145489Z"
    }
   },
   "cell_type": "code",
   "source": "driver.get(url.format(n))",
   "id": "b3e35c3cafebc015",
   "outputs": [],
   "execution_count": 12
  },
  {
   "metadata": {},
   "cell_type": "code",
   "outputs": [],
   "execution_count": null,
   "source": "",
   "id": "805bd7df27e7bd85"
  }
 ],
 "metadata": {
  "kernelspec": {
   "display_name": "Python [conda env:base] *",
   "language": "python",
   "name": "conda-base-py"
  },
  "language_info": {
   "codemirror_mode": {
    "name": "ipython",
    "version": 2
   },
   "file_extension": ".py",
   "mimetype": "text/x-python",
   "name": "python",
   "nbconvert_exporter": "python",
   "pygments_lexer": "ipython2",
   "version": "2.7.6"
  }
 },
 "nbformat": 4,
 "nbformat_minor": 5
}
